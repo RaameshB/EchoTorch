{
 "cells": [
  {
   "metadata": {
    "ExecuteTime": {
     "end_time": "2024-11-02T04:31:55.615842Z",
     "start_time": "2024-11-02T04:31:55.445013Z"
    }
   },
   "cell_type": "code",
   "source": "!which python",
   "id": "15c8b18e679d0534",
   "outputs": [
    {
     "name": "stdout",
     "output_type": "stream",
     "text": [
      "/home/raameshb/miniforge3/envs/echotorch2/bin/python\r\n"
     ]
    }
   ],
   "execution_count": 2
  },
  {
   "cell_type": "code",
   "id": "initial_id",
   "metadata": {
    "collapsed": true,
    "ExecuteTime": {
     "end_time": "2024-11-02T04:31:52.330820Z",
     "start_time": "2024-11-02T04:31:51.021026Z"
    }
   },
   "source": [
    "# Imports\n",
    "import torch\n",
    "from echotorch.datasets.NARMADataset import NARMADataset\n",
    "import echotorch.nn.reservoir as etrs\n",
    "import echotorch.utils\n",
    "import echotorch.utils.matrix_generation as mg\n",
    "from torch.autograd import Variable\n",
    "from torch.utils.data.dataloader import DataLoader\n",
    "import numpy as np\n",
    "import matplotlib.pyplot as plt"
   ],
   "outputs": [],
   "execution_count": 1
  },
  {
   "metadata": {
    "ExecuteTime": {
     "end_time": "2024-11-02T04:13:40.238835Z",
     "start_time": "2024-11-02T04:13:40.236114Z"
    }
   },
   "cell_type": "code",
   "source": [
    "# Length of training samples\n",
    "train_sample_length = 5000\n",
    "\n",
    "# Length of test samples\n",
    "test_sample_length = 2000\n",
    "\n",
    "# How many training/test samples\n",
    "n_train_samples = 1\n",
    "n_test_samples = 1\n",
    "\n",
    "# Batch size (how many sample processed at the same time?)\n",
    "batch_size = 1"
   ],
   "id": "b337d1a1fe052930",
   "outputs": [],
   "execution_count": 4
  },
  {
   "metadata": {
    "ExecuteTime": {
     "end_time": "2024-11-02T04:13:41.431102Z",
     "start_time": "2024-11-02T04:13:41.427987Z"
    }
   },
   "cell_type": "code",
   "source": [
    "# Reservoir hyper-parameters\n",
    "spectral_radius = 1.07\n",
    "leaky_rate = 0.9261\n",
    "input_dim = 1\n",
    "reservoir_size = 410\n",
    "connectivity = 0.1954\n",
    "ridge_param = 0.00000409\n",
    "input_scaling = 0.9252\n",
    "bias_scaling = 0.079079"
   ],
   "id": "55e2ff2c6b95d7b5",
   "outputs": [],
   "execution_count": 5
  },
  {
   "metadata": {
    "ExecuteTime": {
     "end_time": "2024-11-02T04:13:41.963756Z",
     "start_time": "2024-11-02T04:13:41.960780Z"
    }
   },
   "cell_type": "code",
   "source": [
    "# Predicted/target plot length\n",
    "plot_length = 200"
   ],
   "id": "9945a538cebe8b20",
   "outputs": [],
   "execution_count": 6
  },
  {
   "metadata": {
    "ExecuteTime": {
     "end_time": "2024-11-02T04:13:42.530207Z",
     "start_time": "2024-11-02T04:13:42.524631Z"
    }
   },
   "cell_type": "code",
   "source": [
    "# Use CUDA?\n",
    "use_cuda = False\n",
    "use_cuda = torch.cuda.is_available() if use_cuda else False\n",
    "\n",
    "use_cuda"
   ],
   "id": "b691f8f2c2d7635e",
   "outputs": [
    {
     "data": {
      "text/plain": [
       "False"
      ]
     },
     "execution_count": 7,
     "metadata": {},
     "output_type": "execute_result"
    }
   ],
   "execution_count": 7
  },
  {
   "metadata": {
    "ExecuteTime": {
     "end_time": "2024-11-02T04:13:43.227074Z",
     "start_time": "2024-11-02T04:13:43.223533Z"
    }
   },
   "cell_type": "code",
   "source": [
    "# Manual seed initialisation\n",
    "np.random.seed(1)\n",
    "torch.manual_seed(1)"
   ],
   "id": "43fabb647e327427",
   "outputs": [
    {
     "data": {
      "text/plain": [
       "<torch._C.Generator at 0x7f07e43f5e30>"
      ]
     },
     "execution_count": 8,
     "metadata": {},
     "output_type": "execute_result"
    }
   ],
   "execution_count": 8
  },
  {
   "metadata": {
    "ExecuteTime": {
     "end_time": "2024-11-02T04:13:43.983614Z",
     "start_time": "2024-11-02T04:13:43.772520Z"
    }
   },
   "cell_type": "code",
   "source": [
    "# NARMA30 dataset\n",
    "narma10_train_dataset = NARMADataset(train_sample_length, n_train_samples, system_order=10)\n",
    "narma10_test_dataset = NARMADataset(test_sample_length, n_test_samples, system_order=10)\n",
    "\n",
    "# Data loader\n",
    "trainloader = DataLoader(narma10_train_dataset, batch_size=batch_size, shuffle=False, num_workers=2)\n",
    "testloader = DataLoader(narma10_test_dataset, batch_size=batch_size, shuffle=False, num_workers=2)"
   ],
   "id": "b350406a405b1e9c",
   "outputs": [],
   "execution_count": 9
  },
  {
   "metadata": {
    "ExecuteTime": {
     "end_time": "2024-11-02T04:13:44.646623Z",
     "start_time": "2024-11-02T04:13:44.643830Z"
    }
   },
   "cell_type": "code",
   "source": [
    "# Internal matrix\n",
    "w_generator = echotorch.utils.matrix_generation.NormalMatrixGenerator(\n",
    "    connectivity=connectivity,\n",
    "    spetral_radius=spectral_radius\n",
    ")\n",
    "\n",
    "# Input weights\n",
    "win_generator = echotorch.utils.matrix_generation.NormalMatrixGenerator(\n",
    "    connectivity=connectivity,\n",
    "    scale=input_scaling,\n",
    "    apply_spectral_radius=False\n",
    ")\n",
    "\n",
    "# Bias vector\n",
    "wbias_generator = echotorch.utils.matrix_generation.NormalMatrixGenerator(\n",
    "    connectivity=connectivity,\n",
    "    scale=bias_scaling,\n",
    "    apply_spectral_radius=False\n",
    ")"
   ],
   "id": "b6f586e86ed0b9a2",
   "outputs": [],
   "execution_count": 10
  },
  {
   "metadata": {
    "ExecuteTime": {
     "end_time": "2024-11-02T04:13:45.298389Z",
     "start_time": "2024-11-02T04:13:45.157698Z"
    }
   },
   "cell_type": "code",
   "source": [
    "# Create a Leaky-integrated ESN,\n",
    "# with least-square training algo.\n",
    "# esn = etrs.ESN(\n",
    "esn = etrs.LiESN(\n",
    "    input_dim=input_dim,\n",
    "    hidden_dim=reservoir_size,\n",
    "    output_dim=1,\n",
    "    leaky_rate=leaky_rate,\n",
    "    learning_algo='inv',\n",
    "    w_generator=w_generator,\n",
    "    win_generator=win_generator,\n",
    "    wbias_generator=wbias_generator,\n",
    "    ridge_param=ridge_param\n",
    ")\n",
    "\n",
    "# Transfer in the GPU if possible\n",
    "if use_cuda:\n",
    "    esn.cuda()\n",
    "# end if"
   ],
   "id": "da979a5a1d1b2980",
   "outputs": [],
   "execution_count": 11
  },
  {
   "metadata": {
    "ExecuteTime": {
     "end_time": "2024-11-02T04:13:46.133824Z",
     "start_time": "2024-11-02T04:13:45.765398Z"
    }
   },
   "cell_type": "code",
   "source": [
    "# For each batch\n",
    "for data in trainloader:\n",
    "    # Inputs and outputs\n",
    "    inputs, targets = data\n",
    "\n",
    "    # Transform data to Variables\n",
    "    inputs, targets = Variable(inputs), Variable(targets)\n",
    "    if use_cuda: inputs, targets = inputs.cuda(), targets.cuda()\n",
    "\n",
    "    # ESN need inputs and targets\n",
    "    esn(inputs, targets)\n",
    "# end for\n",
    "\n",
    "# Now we finalize the training by\n",
    "# computing the output matrix Wout.\n",
    "esn.finalize()"
   ],
   "id": "3f61272c76bb314",
   "outputs": [],
   "execution_count": 12
  },
  {
   "metadata": {
    "ExecuteTime": {
     "end_time": "2024-11-02T04:13:47.368047Z",
     "start_time": "2024-11-02T04:13:46.585750Z"
    }
   },
   "cell_type": "code",
   "source": [
    "# Get the first sample in training set,\n",
    "# and transform it to Variable.\n",
    "dataiter = iter(trainloader)\n",
    "train_u, train_y = next(dataiter)\n",
    "train_u, train_y = Variable(train_u), Variable(train_y)\n",
    "if use_cuda: train_u, train_y = train_u.cuda(), train_y.cuda()\n",
    "\n",
    "# Make a prediction with our trained ESN\n",
    "y_predicted = esn(train_u)\n",
    "\n",
    "# Print training MSE and NRMSE\n",
    "print((\"Train MSE: {}\".format(echotorch.utils.mse(y_predicted.data, train_y.data))))\n",
    "print((\"Test NRMSE: {}\".format(echotorch.utils.nrmse(y_predicted.data, train_y.data))))\n",
    "print(\"\")\n",
    "\n",
    "# Get the first sample in test set,\n",
    "# and transform it to Variable.\n",
    "dataiter = iter(testloader)\n",
    "test_u, test_y = next(dataiter)\n",
    "test_u, test_y = Variable(test_u), Variable(test_y)\n",
    "if use_cuda: test_u, test_y = test_u.cuda(), test_y.cuda()\n",
    "\n",
    "# Make a prediction with our trained ESN\n",
    "y_predicted = esn(test_u)\n",
    "\n",
    "# Print test MSE and NRMSE\n",
    "print((\"Test MSE: {}\".format(echotorch.utils.mse(y_predicted.data, test_y.data))))\n",
    "print((\"Test NRMSE: {}\".format(echotorch.utils.nrmse(y_predicted.data, test_y.data))))\n",
    "print(\"\")\n",
    "\n",
    "# Show target and predicted\n",
    "plt.plot(test_y[0, :plot_length, 0].data, 'r')\n",
    "plt.plot(y_predicted[0, :plot_length, 0].data, 'b')\n",
    "plt.show()"
   ],
   "id": "3304b235e86b8a1d",
   "outputs": [
    {
     "name": "stdout",
     "output_type": "stream",
     "text": [
      "Train MSE: 0.0007362717879004776\n",
      "Test NRMSE: 0.253141322021768\n",
      "\n",
      "Test MSE: 0.0010275135282427073\n",
      "Test NRMSE: 0.2809777133875123\n",
      "\n"
     ]
    },
    {
     "data": {
      "text/plain": [
       "<Figure size 640x480 with 1 Axes>"
      ],
      "image/png": "[encoded data removed]"
     },
     "metadata": {},
     "output_type": "display_data"
    }
   ],
   "execution_count": 13
  },
  {
   "metadata": {},
   "cell_type": "code",
   "outputs": [],
   "execution_count": null,
   "source": "",
   "id": "3efb04d22b03c62"
  }
 ],
 "metadata": {
  "kernelspec": {
   "display_name": "Python 3",
   "language": "python",
   "name": "python3"
  },
  "language_info": {
   "codemirror_mode": {
    "name": "ipython",
    "version": 2
   },
   "file_extension": ".py",
   "mimetype": "text/x-python",
   "name": "python",
   "nbconvert_exporter": "python",
   "pygments_lexer": "ipython2",
   "version": "2.7.6"
  }
 },
 "nbformat": 4,
 "nbformat_minor": 5
}
